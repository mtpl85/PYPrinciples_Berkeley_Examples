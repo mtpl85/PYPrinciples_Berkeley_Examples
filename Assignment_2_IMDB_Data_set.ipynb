{
  "nbformat": 4,
  "nbformat_minor": 0,
  "metadata": {
    "colab": {
      "name": "Assignment 2 IMDB Data set",
      "provenance": [],
      "collapsed_sections": [],
      "include_colab_link": true
    },
    "kernelspec": {
      "name": "python3",
      "display_name": "Python 3"
    }
  },
  "cells": [
    {
      "cell_type": "markdown",
      "metadata": {
        "id": "view-in-github",
        "colab_type": "text"
      },
      "source": [
        "<a href=\"https://colab.research.google.com/github/mtpl85/PYPrinciples_Berkeley_Examples/blob/main/Assignment_2_IMDB_Data_set.ipynb\" target=\"_parent\"><img src=\"https://colab.research.google.com/assets/colab-badge.svg\" alt=\"Open In Colab\"/></a>"
      ]
    },
    {
      "cell_type": "code",
      "metadata": {
        "id": "v5aAtdTh9jFj",
        "colab": {
          "base_uri": "https://localhost:8080/"
        },
        "outputId": "19ce71bb-3008-4890-b897-560146e6b389"
      },
      "source": [
        "import pandas as pd\n",
        "df1 =  pd.read_csv(\"https://datasets.imdbws.com/title.ratings.tsv.gz\", delimiter='\\t')\n",
        "df2 =  pd.read_csv(\"https://datasets.imdbws.com/title.crew.tsv.gz\", delimiter='\\t')\n",
        "df3 =  pd.read_csv(\"https://datasets.imdbws.com/title.basics.tsv.gz\", delimiter='\\t')\n",
        "#df3 = "
      ],
      "execution_count": null,
      "outputs": [
        {
          "output_type": "stream",
          "text": [
            "/usr/local/lib/python3.7/dist-packages/IPython/core/interactiveshell.py:2718: DtypeWarning: Columns (4,5) have mixed types.Specify dtype option on import or set low_memory=False.\n",
            "  interactivity=interactivity, compiler=compiler, result=result)\n"
          ],
          "name": "stderr"
        }
      ]
    },
    {
      "cell_type": "code",
      "metadata": {
        "id": "kqoQWinQGQCz",
        "colab": {
          "base_uri": "https://localhost:8080/"
        },
        "outputId": "93076b04-bc11-4240-87e1-fcc3e6a71387"
      },
      "source": [
        "from sklearn.feature_extraction.text import CountVectorizer\n",
        "vectorizer = CountVectorizer()\n",
        "corpus = df2['directors']\n",
        "print(corpus[:2])\n",
        "X = vectorizer.fit_transform(corpus)\n",
        "#print(vectorizer.get_feature_names())\n",
        "# df2['directors_list'] = df2['direct']"
      ],
      "execution_count": null,
      "outputs": [
        {
          "output_type": "stream",
          "text": [
            "0    nm0005690\n",
            "1    nm0721526\n",
            "Name: directors, dtype: object\n"
          ],
          "name": "stdout"
        }
      ]
    },
    {
      "cell_type": "code",
      "metadata": {
        "id": "J1Iu_sWtHin1",
        "colab": {
          "base_uri": "https://localhost:8080/"
        },
        "outputId": "6e227859-6577-4f06-f796-c92fec578a3b"
      },
      "source": [
        "print(type(X))\n",
        "print(X[:20])\n",
        "# np.concat(X.toarray())"
      ],
      "execution_count": null,
      "outputs": [
        {
          "output_type": "stream",
          "text": [
            "<class 'scipy.sparse.csr.csr_matrix'>\n",
            "  (0, 2206)\t1\n",
            "  (1, 69305)\t1\n",
            "  (2, 69305)\t1\n",
            "  (3, 69305)\t1\n",
            "  (4, 2206)\t1\n",
            "  (5, 2206)\t1\n",
            "  (6, 2206)\t1\n",
            "  (6, 37137)\t1\n",
            "  (7, 2206)\t1\n",
            "  (8, 10213)\t1\n",
            "  (9, 51527)\t1\n",
            "  (10, 77161)\t1\n",
            "  (11, 51527)\t1\n",
            "  (11, 51526)\t1\n",
            "  (12, 51527)\t1\n",
            "  (13, 51527)\t1\n",
            "  (13, 34902)\t1\n",
            "  (14, 69305)\t1\n",
            "  (15, 51527)\t1\n",
            "  (16, 77161)\t1\n",
            "  (16, 217123)\t1\n",
            "  (17, 77161)\t1\n",
            "  (18, 88826)\t1\n",
            "  (19, 2968)\t1\n"
          ],
          "name": "stdout"
        }
      ]
    },
    {
      "cell_type": "code",
      "metadata": {
        "id": "4wJpERUzmci-"
      },
      "source": [
        "import hashlib\n",
        "df2['hashed_directors'] = df2['directors'].apply(lambda x: int(hashlib.sha1(x.encode()).hexdigest(), 16) % (100))\n",
        "df3['hashed_genres'] = df3['genres'].apply(lambda x: int(hashlib.sha1(str(x).encode()).hexdigest(), 16) % (100))\n"
      ],
      "execution_count": null,
      "outputs": []
    },
    {
      "cell_type": "code",
      "metadata": {
        "id": "KFtJ6KcNtR2W",
        "colab": {
          "base_uri": "https://localhost:8080/",
          "height": 223
        },
        "outputId": "4feafc95-13f6-47f3-d610-7f1214cfb02d"
      },
      "source": [
        "display(df2['hashed_directors'])"
      ],
      "execution_count": null,
      "outputs": [
        {
          "output_type": "display_data",
          "data": {
            "text/plain": [
              "0          44\n",
              "1          85\n",
              "2          85\n",
              "3          85\n",
              "4          44\n",
              "           ..\n",
              "7668276     8\n",
              "7668277     8\n",
              "7668278    54\n",
              "7668279     4\n",
              "7668280    69\n",
              "Name: hashed_directors, Length: 7668281, dtype: int64"
            ]
          },
          "metadata": {
            "tags": []
          }
        }
      ]
    },
    {
      "cell_type": "code",
      "metadata": {
        "id": "_QT93bXgohDY"
      },
      "source": [
        "df_merge = pd.merge(df3, pd.merge(df1, df2, on='tconst'), on='tconst')\n"
      ],
      "execution_count": null,
      "outputs": []
    },
    {
      "cell_type": "code",
      "metadata": {
        "id": "hQ20qkCuojtP"
      },
      "source": [
        ""
      ],
      "execution_count": null,
      "outputs": []
    },
    {
      "cell_type": "code",
      "metadata": {
        "id": "I5sDeUURE3uG"
      },
      "source": [
        "from sklearn.model_selection import train_test_split\n",
        "import numpy as np\n",
        "import copy\n",
        "feature_columns = ['hashed_directors', 'hashed_genres']\n",
        "X = df_merge[feature_columns].values\n",
        "org_y = df_merge['averageRating'].values\n",
        "y = copy.deepcopy(org_y)\n",
        "\n",
        "used = (org_y > 7) | ((org_y > 3.5) & (org_y <= 6.5)) | (org_y <= 3)\n",
        "y = y[used]\n",
        "X = X[used]"
      ],
      "execution_count": null,
      "outputs": []
    },
    {
      "cell_type": "code",
      "metadata": {
        "id": "aZQSMVftb2MC"
      },
      "source": [
        "org_y = copy.deepcopy(y)\n",
        "\n",
        "y[org_y > 7] = 2\n",
        "y[(org_y > 3.5) & (org_y <= 6.5)] = 1\n",
        "y[org_y <= 3] = 0\n",
        "X_train, X_dev_test, y_train, y_dev_test = train_test_split(X, y, test_size=0.2)\n",
        "X_dev, X_test, y_dev, y_test = train_test_split(X_dev_test, y_dev_test, test_size=0.5)\n"
      ],
      "execution_count": null,
      "outputs": []
    },
    {
      "cell_type": "code",
      "metadata": {
        "id": "esSo7doFdMWl",
        "colab": {
          "base_uri": "https://localhost:8080/"
        },
        "outputId": "f87422f4-4f93-43e6-a3e3-a3f4b212231e"
      },
      "source": [
        "print(set(y))"
      ],
      "execution_count": null,
      "outputs": [
        {
          "output_type": "stream",
          "text": [
            "{0.0, 1.0, 2.0}\n"
          ],
          "name": "stdout"
        }
      ]
    },
    {
      "cell_type": "code",
      "metadata": {
        "id": "NS2obBOBUTbb",
        "colab": {
          "base_uri": "https://localhost:8080/"
        },
        "outputId": "abfa4e45-46f2-4a87-d1d3-468b6b1c6512"
      },
      "source": [
        "print(X[0])"
      ],
      "execution_count": null,
      "outputs": [
        {
          "output_type": "stream",
          "text": [
            "[44 79]\n"
          ],
          "name": "stdout"
        }
      ]
    },
    {
      "cell_type": "markdown",
      "metadata": {
        "id": "HiYKattGSpNT"
      },
      "source": [
        ""
      ]
    },
    {
      "cell_type": "code",
      "metadata": {
        "id": "1HztAsdCJbId",
        "colab": {
          "base_uri": "https://localhost:8080/"
        },
        "outputId": "75b5d550-53cc-4be1-af4e-f38304fa338a"
      },
      "source": [
        "from sklearn.svm import LinearSVC\n",
        "from sklearn.preprocessing import MinMaxScaler\n",
        "scaler = MinMaxScaler()\n",
        "from sklearn.preprocessing import OneHotEncoder\n",
        "enc = OneHotEncoder(sparse=False)\n",
        "X_train = enc.fit_transform(X_train)\n",
        "X_dev = enc.transform(X_dev)\n",
        "X_test = enc.transform(X_test)\n",
        "#X_train = scaler.fit_transform(X_train)\n",
        "#X_dev = scaler.transform(X_dev)\n",
        "#X_test = scaler.transform(X_test)\n",
        "clf = LinearSVC(random_state=0, dual=False, verbose=1, C=128,  tol=0.000001, max_iter=10000)\n",
        "clf.fit(X_train, y_train)\n",
        "\n",
        "print(clf.score(X_train, y_train)) \n",
        "print(clf.score(X_dev, y_dev)) \n",
        "print(clf.score(X_test, y_test)) "
      ],
      "execution_count": null,
      "outputs": [
        {
          "output_type": "stream",
          "text": [
            "[LibLinear]0.6154669314213712\n",
            "0.6146865896850179\n",
            "0.6121758264787551\n"
          ],
          "name": "stdout"
        }
      ]
    },
    {
      "cell_type": "markdown",
      "metadata": {
        "id": "yTOy31QlJr2c"
      },
      "source": [
        ""
      ]
    }
  ]
}